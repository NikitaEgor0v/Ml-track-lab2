{
 "cells": [
  {
   "cell_type": "markdown",
   "metadata": {},
   "source": [
    "# Лабораторная работа - Корреляционный анализ в Python\n"
   ]
  },
  {
   "cell_type": "markdown",
   "metadata": {},
   "source": [
    "### Цели\n",
    "\n",
    "* Часть 1: Набор данных\n",
    "* Часть 2: Диаграммы рассеяния и корреляционные переменные\n",
    "* Часть 3: Расчёт корреляции с Python\n",
    "* Часть 4: Визуализация"
   ]
  },
  {
   "cell_type": "markdown",
   "metadata": {},
   "source": [
    "### История / Cценарий\n",
    "\n",
    "Корреляция является важной статистической зависимостью, которая может указывать, связаны ли линейные значения переменных.\n",
    "\n",
    "В этой лабораторной работе вы узнаете, как использовать Python для расчета корреляции. В Части 1 Вы подготовите набор данных. В Части 2 Вы узнаете, как определить, являются ли переменные в данном наборе данных взаимозависимыми. Наконец, в Части 3, Вы будете использовать Python для вычисления корреляции между двумя наборами переменных."
   ]
  },
  {
   "cell_type": "markdown",
   "metadata": {},
   "source": [
    "### Необходимо:\n",
    "* Библиотеки Python: pandas, numpy, matplotlib, seaborn\n",
    "* Файл данных: brainsize.txt"
   ]
  },
  {
   "cell_type": "markdown",
   "metadata": {},
   "source": [
    "## Часть 1: Набор данных"
   ]
  },
  {
   "cell_type": "markdown",
   "metadata": {},
   "source": [
    "Вы будете использовать набор данных, который содержит выборку 40 студентов правшей с вводного курса по Психологии из университета Southwestern. Испытуемые прошли четыре субтеста (Vocabulary, Similarities, Block Design, и Picture Completion) для расчёта шкалы интеллекта взрослых по Векслеру. Исследователи использовали магнитно-резонансную томографию (МРТ) для определения размера мозга у субъектов. Также включены сведения о гендерных показателях и размере тела (рост и вес). Исследователи скрыли вес двух испытуемых и высоту одного из них по причинам конфиденциальности.\n",
    "Для набора данных были применены две простые модификации:\n",
    "\n",
    "1. Заменены вопросительные знаки, используемые для представления скрытых данных, описанных выше, строкой «NaN». Замена была выполнена, потому что Pandas не обрабатывает вопросительные знаки правильно.\n",
    "\n",
    "2. Заменены все символы табуляции запятыми, преобразуя набор данных в набор данных CSV.\n",
    "\n",
    "Готовый набор данных сохранён как `brainsize.txt`."
   ]
  },
  {
   "cell_type": "markdown",
   "metadata": {},
   "source": [
    "#### Шаг 1: Загрузка набора данных из файла.\n",
    "\n",
    "До того, как набор данных можно использовать, он должен быть загружен в память.\n",
    "\n",
    "В приведенном ниже коде первая строка импортирует модули `pandas` и определяет `pd` как дескриптор, который ссылается на один из модулей.\n",
    "\n",
    "Вторая строка загружает CSV-файл набора данных в переменную с именем `brainFile`.\n",
    "\n",
    "Третья строка использует метод `read_csv()` из библиотеки `pandas`, чтобы преобразовать набор данных CSV, хранящийся в `brainFile` в кадр данных. Затем кадр данных хранится в переменной `brainFrame`.\n",
    "\n",
    "Запустите ячейку ниже, чтобы выполнить описанные функции."
   ]
  },
  {
   "cell_type": "code",
   "execution_count": 25,
   "metadata": {
    "ExecuteTime": {
     "end_time": "2024-03-28T14:42:15.537514Z",
     "start_time": "2024-03-28T14:42:15.492243Z"
    }
   },
   "outputs": [],
   "source": [
    "import pandas as pd\n",
    "brainFrame = pd.read_csv('brainsize.txt', delimiter='\\t')"
   ]
  },
  {
   "cell_type": "markdown",
   "metadata": {},
   "source": [
    "#### Шаг 2. Проверка кадра данных.\n",
    "\n",
    "Чтобы убедиться, что кадр данных правильно загружен и создан, используйте метод `head()`. Метод `head()` отображает первые пять записей в кадре данных."
   ]
  },
  {
   "cell_type": "code",
   "execution_count": 26,
   "metadata": {
    "ExecuteTime": {
     "end_time": "2024-03-28T14:42:17.325897Z",
     "start_time": "2024-03-28T14:42:17.289295Z"
    }
   },
   "outputs": [
    {
     "data": {
      "text/plain": "   Gender  FSIQ  VIQ  PIQ  Weight  Height  MRI_Count\n0  Female   133  132  124   118.0    64.5     816932\n1    Male   140  150  124     NaN    72.5    1001121\n2    Male   139  123  150   143.0    73.3    1038437\n3    Male   133  129  128   172.0    68.8     965353\n4  Female   137  132  134   147.0    65.0     951545",
      "text/html": "<div>\n<style scoped>\n    .dataframe tbody tr th:only-of-type {\n        vertical-align: middle;\n    }\n\n    .dataframe tbody tr th {\n        vertical-align: top;\n    }\n\n    .dataframe thead th {\n        text-align: right;\n    }\n</style>\n<table border=\"1\" class=\"dataframe\">\n  <thead>\n    <tr style=\"text-align: right;\">\n      <th></th>\n      <th>Gender</th>\n      <th>FSIQ</th>\n      <th>VIQ</th>\n      <th>PIQ</th>\n      <th>Weight</th>\n      <th>Height</th>\n      <th>MRI_Count</th>\n    </tr>\n  </thead>\n  <tbody>\n    <tr>\n      <th>0</th>\n      <td>Female</td>\n      <td>133</td>\n      <td>132</td>\n      <td>124</td>\n      <td>118.0</td>\n      <td>64.5</td>\n      <td>816932</td>\n    </tr>\n    <tr>\n      <th>1</th>\n      <td>Male</td>\n      <td>140</td>\n      <td>150</td>\n      <td>124</td>\n      <td>NaN</td>\n      <td>72.5</td>\n      <td>1001121</td>\n    </tr>\n    <tr>\n      <th>2</th>\n      <td>Male</td>\n      <td>139</td>\n      <td>123</td>\n      <td>150</td>\n      <td>143.0</td>\n      <td>73.3</td>\n      <td>1038437</td>\n    </tr>\n    <tr>\n      <th>3</th>\n      <td>Male</td>\n      <td>133</td>\n      <td>129</td>\n      <td>128</td>\n      <td>172.0</td>\n      <td>68.8</td>\n      <td>965353</td>\n    </tr>\n    <tr>\n      <th>4</th>\n      <td>Female</td>\n      <td>137</td>\n      <td>132</td>\n      <td>134</td>\n      <td>147.0</td>\n      <td>65.0</td>\n      <td>951545</td>\n    </tr>\n  </tbody>\n</table>\n</div>"
     },
     "execution_count": 26,
     "metadata": {},
     "output_type": "execute_result"
    }
   ],
   "source": [
    "brainFrame.head()"
   ]
  },
  {
   "cell_type": "markdown",
   "metadata": {},
   "source": [
    "Метод head() принимает параметр - число строк, отобразите первые 10 строк таблицы"
   ]
  },
  {
   "cell_type": "code",
   "execution_count": 27,
   "metadata": {
    "ExecuteTime": {
     "end_time": "2024-03-28T14:42:19.387028Z",
     "start_time": "2024-03-28T14:42:19.362153Z"
    }
   },
   "outputs": [
    {
     "data": {
      "text/plain": "   Gender  FSIQ  VIQ  PIQ  Weight  Height  MRI_Count\n0  Female   133  132  124   118.0    64.5     816932\n1    Male   140  150  124     NaN    72.5    1001121\n2    Male   139  123  150   143.0    73.3    1038437\n3    Male   133  129  128   172.0    68.8     965353\n4  Female   137  132  134   147.0    65.0     951545\n5  Female    99   90  110   146.0    69.0     928799\n6  Female   138  136  131   138.0    64.5     991305\n7  Female    92   90   98   175.0    66.0     854258\n8    Male    89   93   84   134.0    66.3     904858\n9    Male   133  114  147   172.0    68.8     955466",
      "text/html": "<div>\n<style scoped>\n    .dataframe tbody tr th:only-of-type {\n        vertical-align: middle;\n    }\n\n    .dataframe tbody tr th {\n        vertical-align: top;\n    }\n\n    .dataframe thead th {\n        text-align: right;\n    }\n</style>\n<table border=\"1\" class=\"dataframe\">\n  <thead>\n    <tr style=\"text-align: right;\">\n      <th></th>\n      <th>Gender</th>\n      <th>FSIQ</th>\n      <th>VIQ</th>\n      <th>PIQ</th>\n      <th>Weight</th>\n      <th>Height</th>\n      <th>MRI_Count</th>\n    </tr>\n  </thead>\n  <tbody>\n    <tr>\n      <th>0</th>\n      <td>Female</td>\n      <td>133</td>\n      <td>132</td>\n      <td>124</td>\n      <td>118.0</td>\n      <td>64.5</td>\n      <td>816932</td>\n    </tr>\n    <tr>\n      <th>1</th>\n      <td>Male</td>\n      <td>140</td>\n      <td>150</td>\n      <td>124</td>\n      <td>NaN</td>\n      <td>72.5</td>\n      <td>1001121</td>\n    </tr>\n    <tr>\n      <th>2</th>\n      <td>Male</td>\n      <td>139</td>\n      <td>123</td>\n      <td>150</td>\n      <td>143.0</td>\n      <td>73.3</td>\n      <td>1038437</td>\n    </tr>\n    <tr>\n      <th>3</th>\n      <td>Male</td>\n      <td>133</td>\n      <td>129</td>\n      <td>128</td>\n      <td>172.0</td>\n      <td>68.8</td>\n      <td>965353</td>\n    </tr>\n    <tr>\n      <th>4</th>\n      <td>Female</td>\n      <td>137</td>\n      <td>132</td>\n      <td>134</td>\n      <td>147.0</td>\n      <td>65.0</td>\n      <td>951545</td>\n    </tr>\n    <tr>\n      <th>5</th>\n      <td>Female</td>\n      <td>99</td>\n      <td>90</td>\n      <td>110</td>\n      <td>146.0</td>\n      <td>69.0</td>\n      <td>928799</td>\n    </tr>\n    <tr>\n      <th>6</th>\n      <td>Female</td>\n      <td>138</td>\n      <td>136</td>\n      <td>131</td>\n      <td>138.0</td>\n      <td>64.5</td>\n      <td>991305</td>\n    </tr>\n    <tr>\n      <th>7</th>\n      <td>Female</td>\n      <td>92</td>\n      <td>90</td>\n      <td>98</td>\n      <td>175.0</td>\n      <td>66.0</td>\n      <td>854258</td>\n    </tr>\n    <tr>\n      <th>8</th>\n      <td>Male</td>\n      <td>89</td>\n      <td>93</td>\n      <td>84</td>\n      <td>134.0</td>\n      <td>66.3</td>\n      <td>904858</td>\n    </tr>\n    <tr>\n      <th>9</th>\n      <td>Male</td>\n      <td>133</td>\n      <td>114</td>\n      <td>147</td>\n      <td>172.0</td>\n      <td>68.8</td>\n      <td>955466</td>\n    </tr>\n  </tbody>\n</table>\n</div>"
     },
     "execution_count": 27,
     "metadata": {},
     "output_type": "execute_result"
    }
   ],
   "source": [
    "brainFrame.head(10)"
   ]
  },
  {
   "cell_type": "markdown",
   "metadata": {},
   "source": [
    "Также Dataframe имеет метод tail(), который возвращает последние 5 строк кадра данных. Аналогично head() метод tail() принимает аргументом число строк, которые он вернет. Отобразите последние 8 строк таблицы."
   ]
  },
  {
   "cell_type": "code",
   "execution_count": 28,
   "metadata": {
    "ExecuteTime": {
     "end_time": "2024-03-28T14:42:21.708144Z",
     "start_time": "2024-03-28T14:42:21.674621Z"
    }
   },
   "outputs": [
    {
     "data": {
      "text/plain": "    Gender  FSIQ  VIQ  PIQ  Weight  Height  MRI_Count\n32    Male   103   96  110   192.0    75.5     997925\n33    Male    90   96   86   181.0    69.0     879987\n34  Female    83   90   81   143.0    66.5     834344\n35  Female   133  129  128   153.0    66.5     948066\n36    Male   140  150  124   144.0    70.5     949395\n37  Female    88   86   94   139.0    64.5     893983\n38    Male    81   90   74   148.0    74.0     930016\n39    Male    89   91   89   179.0    75.5     935863",
      "text/html": "<div>\n<style scoped>\n    .dataframe tbody tr th:only-of-type {\n        vertical-align: middle;\n    }\n\n    .dataframe tbody tr th {\n        vertical-align: top;\n    }\n\n    .dataframe thead th {\n        text-align: right;\n    }\n</style>\n<table border=\"1\" class=\"dataframe\">\n  <thead>\n    <tr style=\"text-align: right;\">\n      <th></th>\n      <th>Gender</th>\n      <th>FSIQ</th>\n      <th>VIQ</th>\n      <th>PIQ</th>\n      <th>Weight</th>\n      <th>Height</th>\n      <th>MRI_Count</th>\n    </tr>\n  </thead>\n  <tbody>\n    <tr>\n      <th>32</th>\n      <td>Male</td>\n      <td>103</td>\n      <td>96</td>\n      <td>110</td>\n      <td>192.0</td>\n      <td>75.5</td>\n      <td>997925</td>\n    </tr>\n    <tr>\n      <th>33</th>\n      <td>Male</td>\n      <td>90</td>\n      <td>96</td>\n      <td>86</td>\n      <td>181.0</td>\n      <td>69.0</td>\n      <td>879987</td>\n    </tr>\n    <tr>\n      <th>34</th>\n      <td>Female</td>\n      <td>83</td>\n      <td>90</td>\n      <td>81</td>\n      <td>143.0</td>\n      <td>66.5</td>\n      <td>834344</td>\n    </tr>\n    <tr>\n      <th>35</th>\n      <td>Female</td>\n      <td>133</td>\n      <td>129</td>\n      <td>128</td>\n      <td>153.0</td>\n      <td>66.5</td>\n      <td>948066</td>\n    </tr>\n    <tr>\n      <th>36</th>\n      <td>Male</td>\n      <td>140</td>\n      <td>150</td>\n      <td>124</td>\n      <td>144.0</td>\n      <td>70.5</td>\n      <td>949395</td>\n    </tr>\n    <tr>\n      <th>37</th>\n      <td>Female</td>\n      <td>88</td>\n      <td>86</td>\n      <td>94</td>\n      <td>139.0</td>\n      <td>64.5</td>\n      <td>893983</td>\n    </tr>\n    <tr>\n      <th>38</th>\n      <td>Male</td>\n      <td>81</td>\n      <td>90</td>\n      <td>74</td>\n      <td>148.0</td>\n      <td>74.0</td>\n      <td>930016</td>\n    </tr>\n    <tr>\n      <th>39</th>\n      <td>Male</td>\n      <td>89</td>\n      <td>91</td>\n      <td>89</td>\n      <td>179.0</td>\n      <td>75.5</td>\n      <td>935863</td>\n    </tr>\n  </tbody>\n</table>\n</div>"
     },
     "execution_count": 28,
     "metadata": {},
     "output_type": "execute_result"
    }
   ],
   "source": [
    "brainFrame.tail(8)"
   ]
  },
  {
   "cell_type": "markdown",
   "metadata": {},
   "source": [
    "## Часть 2: Диаграммы рассеяния и корреляционные переменные"
   ]
  },
  {
   "cell_type": "markdown",
   "metadata": {},
   "source": [
    "#### Шаг 1: метод `describe()` в библиотеке pandas.\n",
    "Библиотека pandas включает в себя метод `describe()`, который выполняет одни и те же общие вычисления на предложенном наборе данных. Помимо базовых операций таких, как подсчёт, расчёт среднего значения, расчёт среднеквадратического отклонения, расчёт минимума, и максимума,  `describe()` также отличный способ быстро проверить достоверность значений в кадре данных.<p>\n",
    "Ниже используйте функцию describe, для вывода статистики по данным"
   ]
  },
  {
   "cell_type": "code",
   "execution_count": 29,
   "metadata": {
    "ExecuteTime": {
     "end_time": "2024-03-28T14:42:24.103156Z",
     "start_time": "2024-03-28T14:42:24.042061Z"
    }
   },
   "outputs": [
    {
     "data": {
      "text/plain": "             FSIQ         VIQ        PIQ      Weight     Height     MRI_Count\ncount   40.000000   40.000000   40.00000   38.000000  39.000000  4.000000e+01\nmean   113.450000  112.350000  111.02500  151.052632  68.525641  9.087550e+05\nstd     24.082071   23.616107   22.47105   23.478509   3.994649  7.228205e+04\nmin     77.000000   71.000000   72.00000  106.000000  62.000000  7.906190e+05\n25%     89.750000   90.000000   88.25000  135.250000  66.000000  8.559185e+05\n50%    116.500000  113.000000  115.00000  146.500000  68.000000  9.053990e+05\n75%    135.500000  129.750000  128.00000  172.000000  70.500000  9.500780e+05\nmax    144.000000  150.000000  150.00000  192.000000  77.000000  1.079549e+06",
      "text/html": "<div>\n<style scoped>\n    .dataframe tbody tr th:only-of-type {\n        vertical-align: middle;\n    }\n\n    .dataframe tbody tr th {\n        vertical-align: top;\n    }\n\n    .dataframe thead th {\n        text-align: right;\n    }\n</style>\n<table border=\"1\" class=\"dataframe\">\n  <thead>\n    <tr style=\"text-align: right;\">\n      <th></th>\n      <th>FSIQ</th>\n      <th>VIQ</th>\n      <th>PIQ</th>\n      <th>Weight</th>\n      <th>Height</th>\n      <th>MRI_Count</th>\n    </tr>\n  </thead>\n  <tbody>\n    <tr>\n      <th>count</th>\n      <td>40.000000</td>\n      <td>40.000000</td>\n      <td>40.00000</td>\n      <td>38.000000</td>\n      <td>39.000000</td>\n      <td>4.000000e+01</td>\n    </tr>\n    <tr>\n      <th>mean</th>\n      <td>113.450000</td>\n      <td>112.350000</td>\n      <td>111.02500</td>\n      <td>151.052632</td>\n      <td>68.525641</td>\n      <td>9.087550e+05</td>\n    </tr>\n    <tr>\n      <th>std</th>\n      <td>24.082071</td>\n      <td>23.616107</td>\n      <td>22.47105</td>\n      <td>23.478509</td>\n      <td>3.994649</td>\n      <td>7.228205e+04</td>\n    </tr>\n    <tr>\n      <th>min</th>\n      <td>77.000000</td>\n      <td>71.000000</td>\n      <td>72.00000</td>\n      <td>106.000000</td>\n      <td>62.000000</td>\n      <td>7.906190e+05</td>\n    </tr>\n    <tr>\n      <th>25%</th>\n      <td>89.750000</td>\n      <td>90.000000</td>\n      <td>88.25000</td>\n      <td>135.250000</td>\n      <td>66.000000</td>\n      <td>8.559185e+05</td>\n    </tr>\n    <tr>\n      <th>50%</th>\n      <td>116.500000</td>\n      <td>113.000000</td>\n      <td>115.00000</td>\n      <td>146.500000</td>\n      <td>68.000000</td>\n      <td>9.053990e+05</td>\n    </tr>\n    <tr>\n      <th>75%</th>\n      <td>135.500000</td>\n      <td>129.750000</td>\n      <td>128.00000</td>\n      <td>172.000000</td>\n      <td>70.500000</td>\n      <td>9.500780e+05</td>\n    </tr>\n    <tr>\n      <th>max</th>\n      <td>144.000000</td>\n      <td>150.000000</td>\n      <td>150.00000</td>\n      <td>192.000000</td>\n      <td>77.000000</td>\n      <td>1.079549e+06</td>\n    </tr>\n  </tbody>\n</table>\n</div>"
     },
     "execution_count": 29,
     "metadata": {},
     "output_type": "execute_result"
    }
   ],
   "source": [
    "brainFrame.describe()"
   ]
  },
  {
   "cell_type": "markdown",
   "metadata": {},
   "source": [
    "#### Шаг 2: Диаграммы рассеяния\n",
    "\n",
    "Диаграммы рассеяния важны при работе с корреляциями, поскольку они позволяют быстро визуально проверить природу связи между переменными. В этой лабораторной работе используется коэффициент корреляции Пирсона, который чувствителен только к линейной зависимости между двумя переменными. Также существуют другие более надежные методы корреляции, но они выходят за рамки этой лабораторной работы.\n",
    "\n",
    "##### a. Загрузите необходимые модули.\n",
    "Прежде чем строить графики, необходимо импортировать несколько модулей, а именно `numpy` и `matplotlib`. Запустите ячейку ниже, чтобы загрузить эти модули."
   ]
  },
  {
   "cell_type": "code",
   "execution_count": 30,
   "metadata": {
    "ExecuteTime": {
     "end_time": "2024-03-28T14:42:26.356478Z",
     "start_time": "2024-03-28T14:42:26.295857Z"
    }
   },
   "outputs": [],
   "source": [
    "import numpy as np\n",
    "import matplotlib.pyplot as plt"
   ]
  },
  {
   "cell_type": "markdown",
   "metadata": {},
   "source": [
    "##### b. Разделите данные.\n",
    "Чтобы гарантировать, что результаты не будут искажены из-за различий в мужских и женских телах, кадр данных разбит на два: один содержит все мужские записи, а другой - только женские экземпляры. <p>\n",
    "Создайте два новых кадра данных: menDf и womenDf, каждый из которых содержит соответствующие записи."
   ]
  },
  {
   "cell_type": "code",
   "execution_count": 31,
   "metadata": {
    "ExecuteTime": {
     "end_time": "2024-03-28T14:42:28.066621Z",
     "start_time": "2024-03-28T14:42:28.022021Z"
    }
   },
   "outputs": [],
   "source": [
    "menDf = brainFrame[brainFrame['Gender'] == 'Male']\n",
    "womenDf = brainFrame[brainFrame['Gender'] == 'Female']"
   ]
  },
  {
   "cell_type": "markdown",
   "metadata": {},
   "source": [
    "##### c. Постройте графики.\n",
    "Поскольку набор данных включает в себя три различных измерения интеллекта (PIQ, FSIQ и VIQ), первая строка ниже использует метод `mean()` из библиотеки Pandas для вычисления среднего значения между тремя измерениями и сохранения результата в переменной `menMeanSmarts`. Обратите внимание, что первая строка относится к menDf, отфильтрованному кадру данных, содержащему только мужские записи.<p>\n",
    "Вторая строка использует метод `scatter()` библиотеки `matplotlib` для создания графика диаграммы рассеяния между переменной `menMeanSmarts` и атрибутом `MRI_Count`. MRI_Count в этом наборе данных можно рассматривать как меру физического размера мозга испытуемых.<p>\n",
    "Третья строка просто отображает график.<p>\n",
    "Четвертая строка используется для гарантированного отображения графика в этом блокноте."
   ]
  },
  {
   "cell_type": "code",
   "execution_count": 32,
   "metadata": {
    "ExecuteTime": {
     "end_time": "2024-03-28T14:42:30.189194Z",
     "start_time": "2024-03-28T14:42:30.107753Z"
    }
   },
   "outputs": [
    {
     "data": {
      "text/plain": "<Figure size 640x480 with 1 Axes>",
      "image/png": "[encoded data removed]"
     },
     "metadata": {},
     "output_type": "display_data"
    }
   ],
   "source": [
    "# Ячейка для кода № 6\n",
    "menMeanSmarts = menDf[[\"PIQ\", \"FSIQ\", \"VIQ\"]].mean(axis=1)\n",
    "plt.scatter(menMeanSmarts, menDf[\"MRI_Count\"])\n",
    "plt.show()\n",
    "%matplotlib inline"
   ]
  },
  {
   "cell_type": "markdown",
   "metadata": {},
   "source": [
    "Аналогичным образом создайте график диаграммы рассеяния для кадра данных, содержащему только женские записи."
   ]
  },
  {
   "cell_type": "code",
   "execution_count": 33,
   "metadata": {
    "scrolled": true,
    "ExecuteTime": {
     "end_time": "2024-03-28T14:42:32.725644Z",
     "start_time": "2024-03-28T14:42:32.627056Z"
    }
   },
   "outputs": [
    {
     "data": {
      "text/plain": "<Figure size 640x480 with 1 Axes>",
      "image/png": "[encoded data removed]"
     },
     "metadata": {},
     "output_type": "display_data"
    }
   ],
   "source": [
    "# Ячейка для кода № 7\n",
    "# Постройка графика диаграммы рассеяния для кадра данных с женскими записями\n",
    "womenMeanSmarts = womenDf[[\"PIQ\", \"FSIQ\", \"VIQ\"]].mean(axis=1)\n",
    "plt.scatter(womenMeanSmarts, womenDf[\"MRI_Count\"])\n",
    "plt.show()\n",
    "%matplotlib inline"
   ]
  },
  {
   "cell_type": "markdown",
   "metadata": {},
   "source": [
    "## Часть 3: Вычисление корреляции с Python\n"
   ]
  },
  {
   "cell_type": "markdown",
   "metadata": {},
   "source": [
    "#### Шаг 1: Рассчитайте корреляцию для brainFrame.\n",
    "Метод `corr()` библиотеки pandas обеспечивает простой способ вычисления корреляции для кадра данных. Просто применяя метод на кадре данных, можно получить корреляцию между всеми переменными одновременно."
   ]
  },
  {
   "cell_type": "code",
   "execution_count": 34,
   "metadata": {
    "ExecuteTime": {
     "end_time": "2024-03-28T14:42:35.683860Z",
     "start_time": "2024-03-28T14:42:35.652635Z"
    }
   },
   "outputs": [
    {
     "data": {
      "text/plain": "               FSIQ       VIQ       PIQ    Weight    Height  MRI_Count\nFSIQ       1.000000  0.946639  0.934125 -0.051483 -0.086002   0.357641\nVIQ        0.946639  1.000000  0.778135 -0.076088 -0.071068   0.337478\nPIQ        0.934125  0.778135  1.000000  0.002512 -0.076723   0.386817\nWeight    -0.051483 -0.076088  0.002512  1.000000  0.699614   0.513378\nHeight    -0.086002 -0.071068 -0.076723  0.699614  1.000000   0.601712\nMRI_Count  0.357641  0.337478  0.386817  0.513378  0.601712   1.000000",
      "text/html": "<div>\n<style scoped>\n    .dataframe tbody tr th:only-of-type {\n        vertical-align: middle;\n    }\n\n    .dataframe tbody tr th {\n        vertical-align: top;\n    }\n\n    .dataframe thead th {\n        text-align: right;\n    }\n</style>\n<table border=\"1\" class=\"dataframe\">\n  <thead>\n    <tr style=\"text-align: right;\">\n      <th></th>\n      <th>FSIQ</th>\n      <th>VIQ</th>\n      <th>PIQ</th>\n      <th>Weight</th>\n      <th>Height</th>\n      <th>MRI_Count</th>\n    </tr>\n  </thead>\n  <tbody>\n    <tr>\n      <th>FSIQ</th>\n      <td>1.000000</td>\n      <td>0.946639</td>\n      <td>0.934125</td>\n      <td>-0.051483</td>\n      <td>-0.086002</td>\n      <td>0.357641</td>\n    </tr>\n    <tr>\n      <th>VIQ</th>\n      <td>0.946639</td>\n      <td>1.000000</td>\n      <td>0.778135</td>\n      <td>-0.076088</td>\n      <td>-0.071068</td>\n      <td>0.337478</td>\n    </tr>\n    <tr>\n      <th>PIQ</th>\n      <td>0.934125</td>\n      <td>0.778135</td>\n      <td>1.000000</td>\n      <td>0.002512</td>\n      <td>-0.076723</td>\n      <td>0.386817</td>\n    </tr>\n    <tr>\n      <th>Weight</th>\n      <td>-0.051483</td>\n      <td>-0.076088</td>\n      <td>0.002512</td>\n      <td>1.000000</td>\n      <td>0.699614</td>\n      <td>0.513378</td>\n    </tr>\n    <tr>\n      <th>Height</th>\n      <td>-0.086002</td>\n      <td>-0.071068</td>\n      <td>-0.076723</td>\n      <td>0.699614</td>\n      <td>1.000000</td>\n      <td>0.601712</td>\n    </tr>\n    <tr>\n      <th>MRI_Count</th>\n      <td>0.357641</td>\n      <td>0.337478</td>\n      <td>0.386817</td>\n      <td>0.513378</td>\n      <td>0.601712</td>\n      <td>1.000000</td>\n    </tr>\n  </tbody>\n</table>\n</div>"
     },
     "execution_count": 34,
     "metadata": {},
     "output_type": "execute_result"
    }
   ],
   "source": [
    "brainFrame.corr(method='pearson', numeric_only=True)"
   ]
  },
  {
   "cell_type": "markdown",
   "metadata": {},
   "source": [
    "Обратите внимание на диагональ слева направо в таблице корреляции, сгенерированной выше. Почему диагональ заполнена значениями 1? Это совпадение? Объясните."
   ]
  },
  {
   "cell_type": "markdown",
   "metadata": {},
   "source": [
    "Нет, это следствие корреляции переменной самой с собой. "
   ]
  },
  {
   "cell_type": "markdown",
   "metadata": {},
   "source": [
    "Продолжая смотреть на таблицу корреляции выше, обратите внимание, что значения зеркалируются; значения под диагональю имеют зеркальный аналог над ней. Это совпадение? Объясните."
   ]
  },
  {
   "cell_type": "markdown",
   "metadata": {},
   "source": [
    "Нет, так как на симметричных позициях коррелируются идентичные пары переменных.\n",
    "Корреляция между двумя переменными одинакова вне зависимости от того,\n",
    "какую переменную мы выберем как зависимую или независимую. "
   ]
  },
  {
   "cell_type": "markdown",
   "metadata": {},
   "source": [
    "Используя тот же метод `corr()`, вычислите корреляцию переменных, содержащихся в кадре с женскими записями:"
   ]
  },
  {
   "cell_type": "code",
   "execution_count": 35,
   "metadata": {
    "ExecuteTime": {
     "end_time": "2024-03-28T14:42:48.658713Z",
     "start_time": "2024-03-28T14:42:48.629845Z"
    }
   },
   "outputs": [
    {
     "data": {
      "text/plain": "               FSIQ       VIQ       PIQ    Weight    Height  MRI_Count\nFSIQ       1.000000  0.955717  0.939382  0.038192 -0.059011   0.325697\nVIQ        0.955717  1.000000  0.802652 -0.021889 -0.146453   0.254933\nPIQ        0.939382  0.802652  1.000000  0.113901 -0.001242   0.396157\nWeight     0.038192 -0.021889  0.113901  1.000000  0.552357   0.446271\nHeight    -0.059011 -0.146453 -0.001242  0.552357  1.000000   0.174541\nMRI_Count  0.325697  0.254933  0.396157  0.446271  0.174541   1.000000",
      "text/html": "<div>\n<style scoped>\n    .dataframe tbody tr th:only-of-type {\n        vertical-align: middle;\n    }\n\n    .dataframe tbody tr th {\n        vertical-align: top;\n    }\n\n    .dataframe thead th {\n        text-align: right;\n    }\n</style>\n<table border=\"1\" class=\"dataframe\">\n  <thead>\n    <tr style=\"text-align: right;\">\n      <th></th>\n      <th>FSIQ</th>\n      <th>VIQ</th>\n      <th>PIQ</th>\n      <th>Weight</th>\n      <th>Height</th>\n      <th>MRI_Count</th>\n    </tr>\n  </thead>\n  <tbody>\n    <tr>\n      <th>FSIQ</th>\n      <td>1.000000</td>\n      <td>0.955717</td>\n      <td>0.939382</td>\n      <td>0.038192</td>\n      <td>-0.059011</td>\n      <td>0.325697</td>\n    </tr>\n    <tr>\n      <th>VIQ</th>\n      <td>0.955717</td>\n      <td>1.000000</td>\n      <td>0.802652</td>\n      <td>-0.021889</td>\n      <td>-0.146453</td>\n      <td>0.254933</td>\n    </tr>\n    <tr>\n      <th>PIQ</th>\n      <td>0.939382</td>\n      <td>0.802652</td>\n      <td>1.000000</td>\n      <td>0.113901</td>\n      <td>-0.001242</td>\n      <td>0.396157</td>\n    </tr>\n    <tr>\n      <th>Weight</th>\n      <td>0.038192</td>\n      <td>-0.021889</td>\n      <td>0.113901</td>\n      <td>1.000000</td>\n      <td>0.552357</td>\n      <td>0.446271</td>\n    </tr>\n    <tr>\n      <th>Height</th>\n      <td>-0.059011</td>\n      <td>-0.146453</td>\n      <td>-0.001242</td>\n      <td>0.552357</td>\n      <td>1.000000</td>\n      <td>0.174541</td>\n    </tr>\n    <tr>\n      <th>MRI_Count</th>\n      <td>0.325697</td>\n      <td>0.254933</td>\n      <td>0.396157</td>\n      <td>0.446271</td>\n      <td>0.174541</td>\n      <td>1.000000</td>\n    </tr>\n  </tbody>\n</table>\n</div>"
     },
     "execution_count": 35,
     "metadata": {},
     "output_type": "execute_result"
    }
   ],
   "source": [
    "womenDf.corr(method='pearson', numeric_only=True)"
   ]
  },
  {
   "cell_type": "markdown",
   "metadata": {},
   "source": [
    "И то же самое можно сделать для переменных, содержащихся в кадре с мужскими записями:"
   ]
  },
  {
   "cell_type": "code",
   "execution_count": 36,
   "metadata": {
    "ExecuteTime": {
     "end_time": "2024-03-28T14:42:50.552983Z",
     "start_time": "2024-03-28T14:42:50.510677Z"
    }
   },
   "outputs": [
    {
     "data": {
      "text/plain": "               FSIQ       VIQ       PIQ    Weight    Height  MRI_Count\nFSIQ       1.000000  0.944400  0.930694 -0.278140 -0.356110   0.498369\nVIQ        0.944400  1.000000  0.766021 -0.350453 -0.355588   0.413105\nPIQ        0.930694  0.766021  1.000000 -0.156863 -0.287676   0.568237\nWeight    -0.278140 -0.350453 -0.156863  1.000000  0.406542  -0.076875\nHeight    -0.356110 -0.355588 -0.287676  0.406542  1.000000   0.301543\nMRI_Count  0.498369  0.413105  0.568237 -0.076875  0.301543   1.000000",
      "text/html": "<div>\n<style scoped>\n    .dataframe tbody tr th:only-of-type {\n        vertical-align: middle;\n    }\n\n    .dataframe tbody tr th {\n        vertical-align: top;\n    }\n\n    .dataframe thead th {\n        text-align: right;\n    }\n</style>\n<table border=\"1\" class=\"dataframe\">\n  <thead>\n    <tr style=\"text-align: right;\">\n      <th></th>\n      <th>FSIQ</th>\n      <th>VIQ</th>\n      <th>PIQ</th>\n      <th>Weight</th>\n      <th>Height</th>\n      <th>MRI_Count</th>\n    </tr>\n  </thead>\n  <tbody>\n    <tr>\n      <th>FSIQ</th>\n      <td>1.000000</td>\n      <td>0.944400</td>\n      <td>0.930694</td>\n      <td>-0.278140</td>\n      <td>-0.356110</td>\n      <td>0.498369</td>\n    </tr>\n    <tr>\n      <th>VIQ</th>\n      <td>0.944400</td>\n      <td>1.000000</td>\n      <td>0.766021</td>\n      <td>-0.350453</td>\n      <td>-0.355588</td>\n      <td>0.413105</td>\n    </tr>\n    <tr>\n      <th>PIQ</th>\n      <td>0.930694</td>\n      <td>0.766021</td>\n      <td>1.000000</td>\n      <td>-0.156863</td>\n      <td>-0.287676</td>\n      <td>0.568237</td>\n    </tr>\n    <tr>\n      <th>Weight</th>\n      <td>-0.278140</td>\n      <td>-0.350453</td>\n      <td>-0.156863</td>\n      <td>1.000000</td>\n      <td>0.406542</td>\n      <td>-0.076875</td>\n    </tr>\n    <tr>\n      <th>Height</th>\n      <td>-0.356110</td>\n      <td>-0.355588</td>\n      <td>-0.287676</td>\n      <td>0.406542</td>\n      <td>1.000000</td>\n      <td>0.301543</td>\n    </tr>\n    <tr>\n      <th>MRI_Count</th>\n      <td>0.498369</td>\n      <td>0.413105</td>\n      <td>0.568237</td>\n      <td>-0.076875</td>\n      <td>0.301543</td>\n      <td>1.000000</td>\n    </tr>\n  </tbody>\n</table>\n</div>"
     },
     "execution_count": 36,
     "metadata": {},
     "output_type": "execute_result"
    }
   ],
   "source": [
    "# Используйте corr() для расчёта критерия корреляции Пирсона для кадра данных с мужчинами\n",
    "menDf.corr(method='pearson', numeric_only=True)"
   ]
  },
  {
   "cell_type": "markdown",
   "metadata": {},
   "source": [
    "## Часть 4: Визуализация"
   ]
  },
  {
   "cell_type": "markdown",
   "metadata": {},
   "source": [
    "#### Шаг 1: Установите Seaborn.\n",
    "Чтобы упростить визуализацию корреляций данных, можно использовать тепловую карту. На основе цветных квадратов тепловая карта может помочь выявить корреляции с первого взгляда.\n",
    "\n",
    "Модуль Python с именем `seaborn` очень упрощает построение тепловых карт.\n",
    "\n",
    "Сначала запустите ячейку ниже, чтобы загрузить и установить модуль `seaborn`. (закомментируйте, если библиотека установлена)"
   ]
  },
  {
   "cell_type": "code",
   "execution_count": 37,
   "metadata": {
    "ExecuteTime": {
     "end_time": "2024-03-28T14:42:55.959302Z",
     "start_time": "2024-03-28T14:42:54.901259Z"
    }
   },
   "outputs": [
    {
     "name": "stdout",
     "output_type": "stream",
     "text": [
      "Requirement already satisfied: seaborn in ./venv/lib/python3.11/site-packages (0.13.2)\r\n",
      "Requirement already satisfied: numpy!=1.24.0,>=1.20 in ./venv/lib/python3.11/site-packages (from seaborn) (1.26.4)\r\n",
      "Requirement already satisfied: pandas>=1.2 in ./venv/lib/python3.11/site-packages (from seaborn) (2.2.1)\r\n",
      "Requirement already satisfied: matplotlib!=3.6.1,>=3.4 in ./venv/lib/python3.11/site-packages (from seaborn) (3.8.3)\r\n",
      "Requirement already satisfied: contourpy>=1.0.1 in ./venv/lib/python3.11/site-packages (from matplotlib!=3.6.1,>=3.4->seaborn) (1.2.0)\r\n",
      "Requirement already satisfied: cycler>=0.10 in ./venv/lib/python3.11/site-packages (from matplotlib!=3.6.1,>=3.4->seaborn) (0.12.1)\r\n",
      "Requirement already satisfied: fonttools>=4.22.0 in ./venv/lib/python3.11/site-packages (from matplotlib!=3.6.1,>=3.4->seaborn) (4.50.0)\r\n",
      "Requirement already satisfied: kiwisolver>=1.3.1 in ./venv/lib/python3.11/site-packages (from matplotlib!=3.6.1,>=3.4->seaborn) (1.4.5)\r\n",
      "Requirement already satisfied: packaging>=20.0 in ./venv/lib/python3.11/site-packages (from matplotlib!=3.6.1,>=3.4->seaborn) (24.0)\r\n",
      "Requirement already satisfied: pillow>=8 in ./venv/lib/python3.11/site-packages (from matplotlib!=3.6.1,>=3.4->seaborn) (10.2.0)\r\n",
      "Requirement already satisfied: pyparsing>=2.3.1 in ./venv/lib/python3.11/site-packages (from matplotlib!=3.6.1,>=3.4->seaborn) (3.1.2)\r\n",
      "Requirement already satisfied: python-dateutil>=2.7 in ./venv/lib/python3.11/site-packages (from matplotlib!=3.6.1,>=3.4->seaborn) (2.9.0.post0)\r\n",
      "Requirement already satisfied: pytz>=2020.1 in ./venv/lib/python3.11/site-packages (from pandas>=1.2->seaborn) (2024.1)\r\n",
      "Requirement already satisfied: tzdata>=2022.7 in ./venv/lib/python3.11/site-packages (from pandas>=1.2->seaborn) (2024.1)\r\n",
      "Requirement already satisfied: six>=1.5 in ./venv/lib/python3.11/site-packages (from python-dateutil>=2.7->matplotlib!=3.6.1,>=3.4->seaborn) (1.16.0)\r\n",
      "\r\n",
      "\u001B[1m[\u001B[0m\u001B[34;49mnotice\u001B[0m\u001B[1;39;49m]\u001B[0m\u001B[39;49m A new release of pip is available: \u001B[0m\u001B[31;49m23.2.1\u001B[0m\u001B[39;49m -> \u001B[0m\u001B[32;49m24.0\u001B[0m\r\n",
      "\u001B[1m[\u001B[0m\u001B[34;49mnotice\u001B[0m\u001B[1;39;49m]\u001B[0m\u001B[39;49m To update, run: \u001B[0m\u001B[32;49mpip install --upgrade pip\u001B[0m\r\n"
     ]
    }
   ],
   "source": [
    "# Ячейка для кода № 11\n",
    "!pip install seaborn"
   ]
  },
  {
   "cell_type": "markdown",
   "metadata": {},
   "source": [
    "#### Шаг 2: Нарисуйте корреляционную тепловую карту.\n",
    "\n",
    "Теперь, когда кадры данных готовы, можно отобразить тепловые карты. Далее приведен анализ кода из ячейки ниже:\n",
    "\n",
    "Строка 1: Создает таблицу корреляции, основанную на фрейме данных `womenNoGenderDf` и хранит его в `wcorr`.<br>\n",
    "Строка 2: Использует метод `heatmap()` библиотеки `seaborn` для генерации и построения тепловой карты. Обратите внимание, что `heatmap()` принимает `wcorr`, как параметр.<br>\n",
    "Строка 3: используется для экспорта и сохранения созданной тепловой карты в виде PNG-изображения. Хотя строка 3 не активна (перед ней стоит символ `#`, заставляя интерпретатор игнорировать ее), она сохранена в информационных целях."
   ]
  },
  {
   "cell_type": "code",
   "execution_count": 38,
   "metadata": {
    "ExecuteTime": {
     "end_time": "2024-03-28T14:42:58.526086Z",
     "start_time": "2024-03-28T14:42:58.274357Z"
    }
   },
   "outputs": [
    {
     "data": {
      "text/plain": "<Axes: >"
     },
     "execution_count": 38,
     "metadata": {},
     "output_type": "execute_result"
    },
    {
     "data": {
      "text/plain": "<Figure size 640x480 with 2 Axes>",
      "image/png": "[encoded data removed]"
     },
     "metadata": {},
     "output_type": "display_data"
    }
   ],
   "source": [
    "# Ячейка для кода № 12\n",
    "import seaborn as sns\n",
    "\n",
    "wcorr = womenDf.corr(numeric_only=True)\n",
    "sns.heatmap(wcorr)\n",
    "#plt.savefig('attribute_correlations.png', tight_layout=True)"
   ]
  },
  {
   "cell_type": "markdown",
   "metadata": {},
   "source": [
    "Аналогичным образом создайте и отобразите тепловую карту для кадра данных с мужчинами."
   ]
  },
  {
   "cell_type": "code",
   "execution_count": 40,
   "metadata": {
    "ExecuteTime": {
     "end_time": "2024-03-28T14:43:01.614358Z",
     "start_time": "2024-03-28T14:43:01.503256Z"
    }
   },
   "outputs": [
    {
     "data": {
      "text/plain": "<Axes: >"
     },
     "execution_count": 40,
     "metadata": {},
     "output_type": "execute_result"
    },
    {
     "data": {
      "text/plain": "<Figure size 640x480 with 2 Axes>",
      "image/png": "[encoded data removed]"
     },
     "metadata": {},
     "output_type": "display_data"
    }
   ],
   "source": [
    "# Ячейка для кода № 14\n",
    "mcorr = menDf.corr(numeric_only=True)\n",
    "sns.heatmap(mcorr)\n",
    "#plt.savefig('attribute_correlations.png', tight_layout=True)"
   ]
  },
  {
   "cell_type": "markdown",
   "metadata": {},
   "source": [
    "У многих пар переменных корреляция близка к нулю. Что это значит?"
   ]
  },
  {
   "cell_type": "markdown",
   "metadata": {},
   "source": [
    "Это значит, что между парами переменных нет явной линейной связи,\n",
    "то есть изменения в одной переменной не ведут (или имеют минимальное влияние) к изменениям в другой переменной. "
   ]
  },
  {
   "cell_type": "markdown",
   "metadata": {},
   "source": [
    "Зачем делать разделение по полу?"
   ]
  },
  {
   "cell_type": "markdown",
   "metadata": {},
   "source": [
    "Пол играет большую разницу в социальных и других аспектах жизни любого человека, именно поэтому для сбора статистики стоит учитывать этот (важный) фактор.\n",
    "Этот фактор может повлиять на результаты исследований. "
   ]
  },
  {
   "cell_type": "markdown",
   "metadata": {},
   "source": [
    "Какие переменные имеют более сильную корреляцию с размером мозга (MRI_Count)? Это ожидалось? Объясните."
   ]
  },
  {
   "cell_type": "markdown",
   "metadata": {},
   "source": [
    "Наиболее сильную корреляцию можно заметить с параметрами обозначающие умственными способностями мозга (FSIQ, VIQ, PIQ),\n",
    "так как они тесно связанны и напрямую влияют на уровень интеллекта.\n",
    "А вот оставшиеся параметры отличаются отсутствием значительной связи. Но вес влияет больше чем рост,\n",
    "так как в более крупном мозге может быть более проницательный ум. "
   ]
  }
 ],
 "metadata": {
  "anaconda-cloud": {},
  "kernelspec": {
   "display_name": "Python 3 (ipykernel)",
   "language": "python",
   "name": "python3"
  },
  "language_info": {
   "codemirror_mode": {
    "name": "ipython",
    "version": 3
   },
   "file_extension": ".py",
   "mimetype": "text/x-python",
   "name": "python",
   "nbconvert_exporter": "python",
   "pygments_lexer": "ipython3",
   "version": "3.11.5"
  }
 },
 "nbformat": 4,
 "nbformat_minor": 4
}
